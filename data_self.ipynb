{
 "cells": [
  {
   "cell_type": "code",
   "execution_count": 1,
   "metadata": {},
   "outputs": [],
   "source": [
    "# Tensorflow es una biblioteca de código abierto desarrollada por Google Brain, utilizada para el desarrollo de modelos de aprendizaje automático.\n",
    "import tensorflow as tf\n",
    "import pandas as pd\n",
    "# Keras es una biblioteca de alto nivel para la construcción y formación de modelos de aprendizaje profundo. \n",
    "# Proporciona una interfaz intuitiva y fácil de usar sobre Tensorflow.\n",
    "from tensorflow.keras.utils import plot_model # Importando plot_model para visualizar el modelo\n",
    "from keras.models import Sequential, Model  # Importando las clases Sequential y Model para la construcción de modelos\n",
    "from keras.layers import Dense, Dropout, Flatten, SpatialDropout2D, SpatialDropout1D, AlphaDropout  # Importando varias clases de capas\n",
    "from keras.layers import Conv2D, MaxPooling2D  # Importando las capas Conv2D y MaxPooling2D para modelos de Convolutional Neural Networks (CNN)\n",
    "from tensorflow.keras.layers import Input  # Importando la clase Input para la creación de modelos\n",
    "from tensorflow.keras.optimizers import Adam  # Importando la clase Adam, un optimizador que se usa frecuentemente en redes neuronales\n",
    "from keras.utils import to_categorical  # Utilidad para convertir un vector de clase (enteros) en una matriz de clase binaria\n",
    "from keras.callbacks import EarlyStopping  # Permite parar el entrenamiento cuando una métrica deja de mejorar\n",
    "from sklearn.model_selection import train_test_split\n",
    "# Matplotlib es una biblioteca para crear visualizaciones estáticas, animadas e interactivas en Python.\n",
    "from matplotlib import pylab  # Submódulo de matplotlib para trazar gráficos\n",
    "\n",
    "# Bibliotecas y módulos estándar de Python para trabajar con archivos y números aleatorios\n",
    "import random\n",
    "import os\n",
    "\n",
    "# SciPy es una biblioteca que contiene módulos para optimización, álgebra lineal, integración, interpolación, funciones especiales, FFT, procesamiento de señales y de imagen, ODE y más.\n",
    "from scipy.stats import entropy  # Importando la función de entropía\n",
    "\n",
    "# Scikit-learn es una biblioteca de aprendizaje automático que proporciona una selección de algoritmos de clasificación, regresión y clustering eficientes.\n",
    "from sklearn.metrics import f1_score, classification_report  # Importando métricas de rendimiento de modelos\n",
    "\n",
    "# Matplotlib es una biblioteca para la generación de gráficos a partir de datos contenidos en listas o arrays en Python y su extensión matemática NumPy.\n",
    "import matplotlib.pyplot as plt\n",
    "\n",
    "# NumPy es una biblioteca para el lenguaje de programación Python que da soporte para crear vectores y matrices grandes multidimensionales, junto con una gran colección de funciones matemáticas de alto nivel para operar con ellas.\n",
    "import numpy as np"
   ]
  },
  {
   "cell_type": "code",
   "execution_count": 2,
   "metadata": {},
   "outputs": [],
   "source": [
    "df = pd.read_csv('dataset.csv', delimiter=',')"
   ]
  },
  {
   "cell_type": "code",
   "execution_count": 3,
   "metadata": {},
   "outputs": [
    {
     "name": "stdout",
     "output_type": "stream",
     "text": [
      "<class 'pandas.core.frame.DataFrame'>\n",
      "RangeIndex: 6362620 entries, 0 to 6362619\n",
      "Data columns (total 11 columns):\n",
      " #   Column          Dtype  \n",
      "---  ------          -----  \n",
      " 0   step            int64  \n",
      " 1   type            object \n",
      " 2   amount          float64\n",
      " 3   nameOrig        object \n",
      " 4   oldbalanceOrg   float64\n",
      " 5   newbalanceOrig  float64\n",
      " 6   nameDest        object \n",
      " 7   oldbalanceDest  float64\n",
      " 8   newbalanceDest  float64\n",
      " 9   isFraud         int64  \n",
      " 10  isFlaggedFraud  int64  \n",
      "dtypes: float64(5), int64(3), object(3)\n",
      "memory usage: 534.0+ MB\n"
     ]
    }
   ],
   "source": [
    "df.info()"
   ]
  },
  {
   "cell_type": "code",
   "execution_count": 4,
   "metadata": {},
   "outputs": [],
   "source": [
    "df =df.drop(['isFlaggedFraud','nameDest','nameOrig'],axis=1)\n",
    "#datos filtrados para luego aplicar tecnica smote\n",
    "df_f = df[df['type'].isin(['CASH_OUT', 'TRANSFER'])].copy()\n",
    "df_f['type'] = df_f['type'].apply(lambda x: 1 if x == 'TRANSFER' else 0)"
   ]
  },
  {
   "cell_type": "code",
   "execution_count": 5,
   "metadata": {},
   "outputs": [
    {
     "name": "stdout",
     "output_type": "stream",
     "text": [
      "<class 'pandas.core.frame.DataFrame'>\n",
      "Int64Index: 2770409 entries, 2 to 6362619\n",
      "Data columns (total 8 columns):\n",
      " #   Column          Dtype  \n",
      "---  ------          -----  \n",
      " 0   step            int64  \n",
      " 1   type            int64  \n",
      " 2   amount          float64\n",
      " 3   oldbalanceOrg   float64\n",
      " 4   newbalanceOrig  float64\n",
      " 5   oldbalanceDest  float64\n",
      " 6   newbalanceDest  float64\n",
      " 7   isFraud         int64  \n",
      "dtypes: float64(5), int64(3)\n",
      "memory usage: 190.2 MB\n"
     ]
    }
   ],
   "source": [
    "df_f.info()"
   ]
  },
  {
   "cell_type": "code",
   "execution_count": 6,
   "metadata": {},
   "outputs": [
    {
     "data": {
      "text/html": [
       "<div>\n",
       "<style scoped>\n",
       "    .dataframe tbody tr th:only-of-type {\n",
       "        vertical-align: middle;\n",
       "    }\n",
       "\n",
       "    .dataframe tbody tr th {\n",
       "        vertical-align: top;\n",
       "    }\n",
       "\n",
       "    .dataframe thead th {\n",
       "        text-align: right;\n",
       "    }\n",
       "</style>\n",
       "<table border=\"1\" class=\"dataframe\">\n",
       "  <thead>\n",
       "    <tr style=\"text-align: right;\">\n",
       "      <th></th>\n",
       "      <th>step</th>\n",
       "      <th>type</th>\n",
       "      <th>amount</th>\n",
       "      <th>oldbalanceOrg</th>\n",
       "      <th>newbalanceOrig</th>\n",
       "      <th>oldbalanceDest</th>\n",
       "      <th>newbalanceDest</th>\n",
       "      <th>isFraud</th>\n",
       "    </tr>\n",
       "  </thead>\n",
       "  <tbody>\n",
       "    <tr>\n",
       "      <th>2</th>\n",
       "      <td>1</td>\n",
       "      <td>1</td>\n",
       "      <td>181.00</td>\n",
       "      <td>181.00</td>\n",
       "      <td>0.0</td>\n",
       "      <td>0.00</td>\n",
       "      <td>0.00</td>\n",
       "      <td>1</td>\n",
       "    </tr>\n",
       "    <tr>\n",
       "      <th>3</th>\n",
       "      <td>1</td>\n",
       "      <td>0</td>\n",
       "      <td>181.00</td>\n",
       "      <td>181.00</td>\n",
       "      <td>0.0</td>\n",
       "      <td>21182.00</td>\n",
       "      <td>0.00</td>\n",
       "      <td>1</td>\n",
       "    </tr>\n",
       "    <tr>\n",
       "      <th>15</th>\n",
       "      <td>1</td>\n",
       "      <td>0</td>\n",
       "      <td>229133.94</td>\n",
       "      <td>15325.00</td>\n",
       "      <td>0.0</td>\n",
       "      <td>5083.00</td>\n",
       "      <td>51513.44</td>\n",
       "      <td>0</td>\n",
       "    </tr>\n",
       "    <tr>\n",
       "      <th>19</th>\n",
       "      <td>1</td>\n",
       "      <td>1</td>\n",
       "      <td>215310.30</td>\n",
       "      <td>705.00</td>\n",
       "      <td>0.0</td>\n",
       "      <td>22425.00</td>\n",
       "      <td>0.00</td>\n",
       "      <td>0</td>\n",
       "    </tr>\n",
       "    <tr>\n",
       "      <th>24</th>\n",
       "      <td>1</td>\n",
       "      <td>1</td>\n",
       "      <td>311685.89</td>\n",
       "      <td>10835.00</td>\n",
       "      <td>0.0</td>\n",
       "      <td>6267.00</td>\n",
       "      <td>2719172.89</td>\n",
       "      <td>0</td>\n",
       "    </tr>\n",
       "    <tr>\n",
       "      <th>...</th>\n",
       "      <td>...</td>\n",
       "      <td>...</td>\n",
       "      <td>...</td>\n",
       "      <td>...</td>\n",
       "      <td>...</td>\n",
       "      <td>...</td>\n",
       "      <td>...</td>\n",
       "      <td>...</td>\n",
       "    </tr>\n",
       "    <tr>\n",
       "      <th>6362615</th>\n",
       "      <td>743</td>\n",
       "      <td>0</td>\n",
       "      <td>339682.13</td>\n",
       "      <td>339682.13</td>\n",
       "      <td>0.0</td>\n",
       "      <td>0.00</td>\n",
       "      <td>339682.13</td>\n",
       "      <td>1</td>\n",
       "    </tr>\n",
       "    <tr>\n",
       "      <th>6362616</th>\n",
       "      <td>743</td>\n",
       "      <td>1</td>\n",
       "      <td>6311409.28</td>\n",
       "      <td>6311409.28</td>\n",
       "      <td>0.0</td>\n",
       "      <td>0.00</td>\n",
       "      <td>0.00</td>\n",
       "      <td>1</td>\n",
       "    </tr>\n",
       "    <tr>\n",
       "      <th>6362617</th>\n",
       "      <td>743</td>\n",
       "      <td>0</td>\n",
       "      <td>6311409.28</td>\n",
       "      <td>6311409.28</td>\n",
       "      <td>0.0</td>\n",
       "      <td>68488.84</td>\n",
       "      <td>6379898.11</td>\n",
       "      <td>1</td>\n",
       "    </tr>\n",
       "    <tr>\n",
       "      <th>6362618</th>\n",
       "      <td>743</td>\n",
       "      <td>1</td>\n",
       "      <td>850002.52</td>\n",
       "      <td>850002.52</td>\n",
       "      <td>0.0</td>\n",
       "      <td>0.00</td>\n",
       "      <td>0.00</td>\n",
       "      <td>1</td>\n",
       "    </tr>\n",
       "    <tr>\n",
       "      <th>6362619</th>\n",
       "      <td>743</td>\n",
       "      <td>0</td>\n",
       "      <td>850002.52</td>\n",
       "      <td>850002.52</td>\n",
       "      <td>0.0</td>\n",
       "      <td>6510099.11</td>\n",
       "      <td>7360101.63</td>\n",
       "      <td>1</td>\n",
       "    </tr>\n",
       "  </tbody>\n",
       "</table>\n",
       "<p>2770409 rows × 8 columns</p>\n",
       "</div>"
      ],
      "text/plain": [
       "         step  type      amount  oldbalanceOrg  newbalanceOrig  \\\n",
       "2           1     1      181.00         181.00             0.0   \n",
       "3           1     0      181.00         181.00             0.0   \n",
       "15          1     0   229133.94       15325.00             0.0   \n",
       "19          1     1   215310.30         705.00             0.0   \n",
       "24          1     1   311685.89       10835.00             0.0   \n",
       "...       ...   ...         ...            ...             ...   \n",
       "6362615   743     0   339682.13      339682.13             0.0   \n",
       "6362616   743     1  6311409.28     6311409.28             0.0   \n",
       "6362617   743     0  6311409.28     6311409.28             0.0   \n",
       "6362618   743     1   850002.52      850002.52             0.0   \n",
       "6362619   743     0   850002.52      850002.52             0.0   \n",
       "\n",
       "         oldbalanceDest  newbalanceDest  isFraud  \n",
       "2                  0.00            0.00        1  \n",
       "3              21182.00            0.00        1  \n",
       "15              5083.00        51513.44        0  \n",
       "19             22425.00            0.00        0  \n",
       "24              6267.00      2719172.89        0  \n",
       "...                 ...             ...      ...  \n",
       "6362615            0.00       339682.13        1  \n",
       "6362616            0.00            0.00        1  \n",
       "6362617        68488.84      6379898.11        1  \n",
       "6362618            0.00            0.00        1  \n",
       "6362619      6510099.11      7360101.63        1  \n",
       "\n",
       "[2770409 rows x 8 columns]"
      ]
     },
     "execution_count": 6,
     "metadata": {},
     "output_type": "execute_result"
    }
   ],
   "source": [
    "df_f"
   ]
  },
  {
   "cell_type": "code",
   "execution_count": 7,
   "metadata": {},
   "outputs": [],
   "source": [
    "x = df_f.drop('isFraud',axis=1)\n",
    "y_= df_f['isFraud']\n",
    "X, X_test, Y, y_test= train_test_split(x, y_, test_size=0.3, stratify=y_, random_state=42)"
   ]
  },
  {
   "cell_type": "code",
   "execution_count": 8,
   "metadata": {},
   "outputs": [
    {
     "data": {
      "text/plain": [
       "(array([0, 1], dtype=int64), array([1933537,    5749], dtype=int64))"
      ]
     },
     "execution_count": 8,
     "metadata": {},
     "output_type": "execute_result"
    }
   ],
   "source": [
    "import numpy as np\n",
    "np.unique(Y,return_counts=True)"
   ]
  },
  {
   "cell_type": "code",
   "execution_count": 10,
   "metadata": {},
   "outputs": [
    {
     "data": {
      "text/plain": [
       "(1939286, 7)"
      ]
     },
     "execution_count": 10,
     "metadata": {},
     "output_type": "execute_result"
    }
   ],
   "source": [
    "X.shape"
   ]
  },
  {
   "cell_type": "code",
   "execution_count": null,
   "metadata": {},
   "outputs": [
    {
     "data": {
      "text/plain": [
       "(831123, 7)"
      ]
     },
     "execution_count": 8,
     "metadata": {},
     "output_type": "execute_result"
    }
   ],
   "source": [
    "X_test.shape"
   ]
  },
  {
   "cell_type": "code",
   "execution_count": null,
   "metadata": {},
   "outputs": [],
   "source": [
    "semilla=42\n",
    "\n",
    "def reproducible_results(seed):  \n",
    "    \"\"\"\n",
    "    Esta función configura las semillas de los generadores de números aleatorios en varias bibliotecas \n",
    "    para asegurar que los experimentos sean reproducibles.\n",
    "    \n",
    "    :param seed: El valor de la semilla a utilizar.\n",
    "    \"\"\"\n",
    "    \n",
    "    # Configura la semilla para el generador de números aleatorios en NumPy\n",
    "    np.random.seed(seed)\n",
    "    \n",
    "    # Configura la semilla para el generador de números aleatorios en la biblioteca estándar de Python\n",
    "    random.seed(seed)\n",
    "    \n",
    "    # Configura la semilla para el generador de números aleatorios en el entorno Python\n",
    "    # Este es un intento de hacer que las funciones de hash sean deterministas en Python\n",
    "    os.environ['PYTHONHASHSEED'] = str(0)\n",
    "    \n",
    "    # Configura la semilla para el generador de números aleatorios en TensorFlow\n",
    "    tf.compat.v1.set_random_seed(seed)"
   ]
  },
  {
   "cell_type": "code",
   "execution_count": null,
   "metadata": {},
   "outputs": [],
   "source": [
    "def get_dropout(input_tensor, p=0.5, mc=False, semilla=semilla):\n",
    "    \"\"\"\n",
    "    Función para aplicar Dropout a una capa de entrada tensor.\n",
    "    :param input_tensor: Tensor de entrada.\n",
    "    :param p: Probabilidad de eliminar conexiones en el Dropout.\n",
    "    :param mc: Booleano para activar el Dropout estocástico Monte Carlo.\n",
    "    :param semilla: Semilla para reproducibilidad.\n",
    "    :return: Tensor con Dropout aplicado.\n",
    "    \"\"\"\n",
    "    if mc:\n",
    "        return Dropout(p, seed=semilla)(input_tensor, training=True)\n",
    "    else:\n",
    "        return Dropout(p, seed=semilla)(input_tensor)\n",
    "############\n",
    "input_shape =(7,)\n",
    "############\n",
    "def get_model(mc=False, act=\"relu\", input_shape=input_shape, seed=None):\n",
    "    \"\"\"\n",
    "    Función para obtener el modelo de red neuronal para datos tabulados.\n",
    "    :param mc: Booleano para activar el Dropout estocástico Monte Carlo.\n",
    "    :param act: Función de activación a utilizar en las capas densas.\n",
    "    :param input_shape: Forma de entrada de los datos al modelo.\n",
    "    :param seed: Semilla para reproducibilidad.\n",
    "    :return: Modelo de red neuronal compilado.\n",
    "    \"\"\"\n",
    "    # Establecer reproducibilidad de resultados (si tienes una función para ello)\n",
    "    # reproducible_results(seed)\n",
    "    \n",
    "    initializer = tf.keras.initializers.GlorotUniform(seed=seed)  # Inicializador para los pesos de las capas\n",
    "    inp = Input(shape=input_shape)  # Capa de entrada del modelo\n",
    "    \n",
    "    x = Dense(128, activation=act, kernel_initializer=initializer)(inp)  # Capa densa 1\n",
    "    x = Dropout(0.25)(x) if mc else x  # Capa de Dropout aplicada al tensor x\n",
    "    x = Dense(64, activation=act, kernel_initializer=initializer)(x)  # Capa densa 2\n",
    "    x = Dropout(0.5)(x) if mc else x  # Capa de Dropout aplicada al tensor x\n",
    "    \n",
    "    out = Dense(1, activation='sigmoid', kernel_initializer=initializer)(x)  # Capa de salida con activación sigmoid\n",
    "    \n",
    "    model = Model(inputs=inp, outputs=out)  # Crear el modelo de red neuronal\n",
    "    \n",
    "    model.compile(loss='binary_crossentropy',  # Compilar el modelo con función de pérdida, optimizador y métricas\n",
    "                optimizer='adam',\n",
    "                metrics=['accuracy'])\n",
    "    return model"
   ]
  },
  {
   "cell_type": "markdown",
   "metadata": {},
   "source": [
    "## ***Vista del modelo***"
   ]
  },
  {
   "cell_type": "code",
   "execution_count": null,
   "metadata": {},
   "outputs": [
    {
     "name": "stderr",
     "output_type": "stream",
     "text": [
      "C:\\Users\\Ivan\\AppData\\Roaming\\Python\\Python39\\site-packages\\keras\\initializers\\initializers_v2.py:120: UserWarning: The initializer GlorotUniform is unseeded and being called multiple times, which will return identical values  each time (even if the initializer is unseeded). Please update your code to provide a seed to the initializer, or avoid using the same initalizer instance more than once.\n",
      "  warnings.warn(\n"
     ]
    },
    {
     "data": {
      "image/png": "[encoded data removed]",
      "text/plain": [
       "<IPython.core.display.Image object>"
      ]
     },
     "execution_count": 11,
     "metadata": {},
     "output_type": "execute_result"
    }
   ],
   "source": [
    "model = get_model(mc=True, act=\"relu\")\n",
    "plot_model(model, to_file='model.png', show_shapes=True, show_layer_names=True)"
   ]
  },
  {
   "cell_type": "markdown",
   "metadata": {},
   "source": [
    "# ***Tecnica de Submuestreo (Undersampling)***"
   ]
  },
  {
   "cell_type": "code",
   "execution_count": null,
   "metadata": {},
   "outputs": [],
   "source": [
    "def get_data(x_training, y_training, examples_per_clase, nclasses=6):\n",
    "    \"\"\"\n",
    "    Función para obtener un subconjunto de datos de entrenamiento balanceado.\n",
    "    :param x_training: Conjunto de datos de entrenamiento.\n",
    "    :param y_training: Etiquetas correspondientes al conjunto de datos de entrenamiento.\n",
    "    :param examples_per_clase: Número de ejemplos por clase que se desea obtener.\n",
    "    :param nclasses: Número de clases en el conjunto de datos.\n",
    "    :return: Conjunto de datos de entrenamiento original sin los ejemplos seleccionados, subconjunto de datos balanceado.\n",
    "    \"\"\"\n",
    "    x_training = x_training.copy()\n",
    "    y_training = y_training.copy()\n",
    "    \n",
    "    # Verificar si x_training y y_training son DataFrames/Series de pandas\n",
    "    if isinstance(x_training, pd.DataFrame) and isinstance(y_training, pd.Series):\n",
    "        for i in range(nclasses):\n",
    "            idx = y_training[y_training == i].index[:examples_per_clase]\n",
    "            if i == 0:\n",
    "                x = x_training.loc[idx].values.copy()\n",
    "                y = y_training.loc[idx].values.copy()\n",
    "            else:\n",
    "                x = np.vstack((x, x_training.loc[idx].values))\n",
    "                y = np.hstack((y, y_training.loc[idx].values))\n",
    "            x_training = x_training.drop(idx)\n",
    "            y_training = y_training.drop(idx)\n",
    "    else:\n",
    "        for i in range(nclasses):\n",
    "            idx = np.where(y_training == i)[0][:examples_per_clase]\n",
    "            if i == 0:\n",
    "                x = x_training[idx].copy()\n",
    "                y = y_training[idx].copy()\n",
    "            else:\n",
    "                x = np.vstack((x, x_training[idx]))\n",
    "                y = np.hstack((y, y_training[idx]))\n",
    "            x_training = np.delete(x_training, idx, axis=0)\n",
    "            y_training = np.delete(y_training, idx, axis=0)\n",
    "\n",
    "    return x_training, y_training, x, y"
   ]
  },
  {
   "cell_type": "markdown",
   "metadata": {},
   "source": [
    "## ***Re-entrenamiento (self-training)***"
   ]
  },
  {
   "cell_type": "code",
   "execution_count": null,
   "metadata": {},
   "outputs": [],
   "source": [
    "from sklearn.metrics import classification_report, f1_score\n",
    "from matplotlib import pylab\n",
    "\n",
    "def numerode_veces(veces, batch, xu, xl, yl, model, test_data, test_labels):\n",
    "    fscore = []  # Lista para almacenar los puntajes F1\n",
    "    cantidad_de_datos = []  # Lista para almacenar la cantidad de datos etiquetados\n",
    "    for i in range(veces):\n",
    "        print(\"Posicion de numero de veces\", i + 1)\n",
    "        print(\"Datos etiquetados \", xl.shape[0])\n",
    "        print(\"Datos sin etiqueta: \", xu.shape[0])\n",
    "        cantidad_de_datos.append(xl.shape[0])\n",
    "        print(f\"Cantidad de datos etiquetados {cantidad_de_datos}\")\n",
    "        \n",
    "        h = model.fit(xl, yl,  # Entrenar el modelo con los datos etiquetados\n",
    "                    batch_size=batch,\n",
    "                    epochs=100,\n",
    "                    verbose=0)\n",
    "        \n",
    "        pred = model.predict(test_data)  # Realizar predicciones en los datos de prueba\n",
    "        pred_labels = (pred > 0.5).astype(int)  # Convertir las predicciones a etiquetas binarias\n",
    "        f1score = 100 * f1_score(test_labels, pred_labels, average='weighted')  # Calcular el puntaje F1\n",
    "        fscore.append(f1score)  # Agregar el puntaje F1 a la lista\n",
    "        \n",
    "        predxu = model.predict(xu)  # Realizar predicciones en los datos sin etiqueta\n",
    "        idxx = np.argsort(predxu[:, 0])[-batch:]  # Obtener los índices de los datos con mayor probabilidad de ser fraude\n",
    "        ylaux = (predxu[idxx, 0] > 0.5).astype(int)  # Obtener las etiquetas correspondientes\n",
    "        xlaux = xu.iloc[idxx]  # Obtener los datos correspondientes\n",
    "        xl = np.vstack((xl, xlaux))  # Agregar los datos etiquetados\n",
    "        yl = np.hstack((yl, ylaux))  # Agregar las etiquetas\n",
    "        xu = pd.DataFrame(np.delete(xu.values, idxx, axis=0), columns=xu.columns)  # Eliminar los datos etiquetados de los datos sin etiqueta\n",
    "        \n",
    "        print(fscore)\n",
    "        print(classification_report(test_labels, pred_labels))  # Imprimir el informe de clasificación\n",
    "    # Mostrar gráfica de puntajes F1 vs cantidad de datos etiquetados\n",
    "    fig = pylab.figure(1, figsize=(10, 10))\n",
    "    pylab.plot(cantidad_de_datos, fscore, 'orange', label='score vs data training')\n",
    "    pylab.legend(loc='upper left')\n",
    "    pylab.show()\n",
    "    "
   ]
  },
  {
   "cell_type": "markdown",
   "metadata": {},
   "source": [
    "## ***Entrenamiento y visualizacion***"
   ]
  },
  {
   "cell_type": "code",
   "execution_count": null,
   "metadata": {},
   "outputs": [
    {
     "name": "stdout",
     "output_type": "stream",
     "text": [
      "train x: (25749, 7)\n",
      "train y: (25749,)\n",
      "val x: (2000, 7)\n",
      "val y: (2000,)\n",
      "unlabeled x: (1911537, 7)\n"
     ]
    }
   ],
   "source": [
    "#ejemplos por clase (training)\n",
    "examples_train = 20000\n",
    "x_training, y_training, xl, yl = get_data(X, Y, examples_train)\n",
    "print('train x:', xl.shape)  # Imprimir la forma del conjunto de entrenamiento balanceado\n",
    "print('train y:', yl.shape)  # Imprimir la forma de las etiquetas correspondientes\n",
    "\n",
    "#ejemplos por clase (validation)\n",
    "examples_validation = 2000  \n",
    "x_training, y_training, xv, yv = get_data(x_training, y_training, examples_validation)\n",
    "print('val x:', xv.shape)  # Imprimir la forma del conjunto de validación balanceado\n",
    "print('val y:', yv.shape)  # Imprimir la forma de las etiquetas correspondientes\n",
    "\n",
    "#data sin etiquetas (unlabeled)\n",
    "xu = x_training.copy()  # Copiar el conjunto de datos de entrenamiento restante como datos sin etiquetas\n",
    "del y_training  # Eliminar las etiquetas del conjunto de entrenamiento original\n",
    "print('unlabeled x:', xu.shape)  # Imprimir la forma de los datos sin etiquetas"
   ]
  },
  {
   "cell_type": "code",
   "execution_count": null,
   "metadata": {},
   "outputs": [
    {
     "data": {
      "text/plain": [
       "(array([0, 1], dtype=int64), array([20000,  5749], dtype=int64))"
      ]
     },
     "execution_count": 14,
     "metadata": {},
     "output_type": "execute_result"
    }
   ],
   "source": [
    "np.unique(yl, return_counts=True)"
   ]
  },
  {
   "cell_type": "code",
   "execution_count": null,
   "metadata": {},
   "outputs": [
    {
     "name": "stdout",
     "output_type": "stream",
     "text": [
      "Posicion de numero de veces 1\n",
      "Datos etiquetados  25749\n",
      "Datos sin etiqueta:  1911537\n",
      "Cantidad de datos etiquetados [25749]\n",
      "25973/25973 [==============================] - 16s 625us/step\n",
      "59736/59736 [==============================] - 40s 667us/step\n",
      "[99.55785832752821]\n",
      "              precision    recall  f1-score   support\n",
      "\n",
      "           0       1.00      1.00      1.00    828659\n",
      "           1       0.89      0.00      0.01      2464\n",
      "\n",
      "    accuracy                           1.00    831123\n",
      "   macro avg       0.94      0.50      0.50    831123\n",
      "weighted avg       1.00      1.00      1.00    831123\n",
      "\n",
      "Posicion de numero de veces 2\n",
      "Datos etiquetados  25849\n",
      "Datos sin etiqueta:  1911437\n",
      "Cantidad de datos etiquetados [25749, 25849]\n",
      "25973/25973 [==============================] - 17s 653us/step\n",
      "59733/59733 [==============================] - 40s 677us/step\n",
      "[99.55785832752821, 99.56149418727954]\n",
      "              precision    recall  f1-score   support\n",
      "\n",
      "           0       1.00      1.00      1.00    828659\n",
      "           1       1.00      0.01      0.02      2464\n",
      "\n",
      "    accuracy                           1.00    831123\n",
      "   macro avg       1.00      0.50      0.51    831123\n",
      "weighted avg       1.00      1.00      1.00    831123\n",
      "\n",
      "Posicion de numero de veces 3\n",
      "Datos etiquetados  25949\n",
      "Datos sin etiqueta:  1911337\n",
      "Cantidad de datos etiquetados [25749, 25849, 25949]\n",
      "25973/25973 [==============================] - 20s 762us/step\n",
      "59730/59730 [==============================] - 42s 711us/step\n",
      "[99.55785832752821, 99.56149418727954, 99.57724736361764]\n",
      "              precision    recall  f1-score   support\n",
      "\n",
      "           0       1.00      1.00      1.00    828659\n",
      "           1       1.00      0.03      0.06      2464\n",
      "\n",
      "    accuracy                           1.00    831123\n",
      "   macro avg       1.00      0.52      0.53    831123\n",
      "weighted avg       1.00      1.00      1.00    831123\n",
      "\n",
      "Posicion de numero de veces 4\n",
      "Datos etiquetados  26049\n",
      "Datos sin etiqueta:  1911237\n",
      "Cantidad de datos etiquetados [25749, 25849, 25949, 26049]\n",
      "25973/25973 [==============================] - 17s 657us/step\n",
      "59727/59727 [==============================] - 40s 672us/step\n",
      "[99.55785832752821, 99.56149418727954, 99.57724736361764, 99.81667666449088]\n",
      "              precision    recall  f1-score   support\n",
      "\n",
      "           0       1.00      1.00      1.00    828659\n",
      "           1       0.97      0.49      0.65      2464\n",
      "\n",
      "    accuracy                           1.00    831123\n",
      "   macro avg       0.98      0.74      0.82    831123\n",
      "weighted avg       1.00      1.00      1.00    831123\n",
      "\n"
     ]
    },
    {
     "data": {
      "image/png": "[encoded data removed]",
      "text/plain": [
       "<Figure size 720x720 with 1 Axes>"
      ]
     },
     "metadata": {
      "needs_background": "light"
     },
     "output_type": "display_data"
    }
   ],
   "source": [
    "batch = 100 #Datos confiables para agregar a la iteracion\n",
    "numerode_veces(4,batch,xu,xl,yl,model=model,test_data=X_test,test_labels=y_test)"
   ]
  },
  {
   "cell_type": "code",
   "execution_count": null,
   "metadata": {},
   "outputs": [],
   "source": [
    "#ejemplos por clase (training)\n",
    "examples_train = 2000\n",
    "x_training, y_training, xl, yl = get_data(X, Y, examples_train)\n",
    "print('train x:', xl.shape)  # Imprimir la forma del conjunto de entrenamiento balanceado\n",
    "print('train y:', yl.shape)  # Imprimir la forma de las etiquetas correspondientes\n",
    "#ejemplos por clase (validation)\n",
    "examples_validation = 200  # Número de ejemplos POR CLASE para el conjunto de validación\n",
    "x_training, y_training, xv, yv = get_data(x_training, y_training, examples_validation)\n",
    "print('val x:', xv.shape)  # Imprimir la forma del conjunto de validación balanceado\n",
    "print('val y:', yv.shape)  # Imprimir la forma de las etiquetas correspondientes\n",
    "#data sin etiquetas (unlabeled)\n",
    "# xu = x_training.copy()  # Copiar el conjunto de datos de entrenamiento restante como datos sin etiquetas\n",
    "del y_training  # Eliminar las etiquetas del conjunto de entrenamiento original\n",
    "print('unlabeled x:', xu.shape)  # Imprimir la forma de los datos sin etiquetas\""
   ]
  },
  {
   "cell_type": "code",
   "execution_count": null,
   "metadata": {},
   "outputs": [
    {
     "name": "stdout",
     "output_type": "stream",
     "text": [
      "Posicion de numero de veces 1\n",
      "Datos etiquetados  4000\n",
      "Datos sin etiqueta:  1934886\n",
      "Cantidad de datos etiquetados [4000]\n",
      "25973/25973 [==============================] - 17s 643us/step\n",
      "60466/60466 [==============================] - 40s 667us/step\n",
      "[99.78870929746057]\n",
      "              precision    recall  f1-score   support\n",
      "\n",
      "           0       1.00      1.00      1.00    828659\n",
      "           1       0.78      0.50      0.61      2464\n",
      "\n",
      "    accuracy                           1.00    831123\n",
      "   macro avg       0.89      0.75      0.80    831123\n",
      "weighted avg       1.00      1.00      1.00    831123\n",
      "\n",
      "Posicion de numero de veces 2\n",
      "Datos etiquetados  4100\n",
      "Datos sin etiqueta:  1934786\n",
      "Cantidad de datos etiquetados [4000, 4100]\n",
      "25973/25973 [==============================] - 18s 673us/step\n",
      "60463/60463 [==============================] - 46s 760us/step\n",
      "[99.78870929746057, 99.78406821624884]\n",
      "              precision    recall  f1-score   support\n",
      "\n",
      "           0       1.00      1.00      1.00    828659\n",
      "           1       0.76      0.50      0.60      2464\n",
      "\n",
      "    accuracy                           1.00    831123\n",
      "   macro avg       0.88      0.75      0.80    831123\n",
      "weighted avg       1.00      1.00      1.00    831123\n",
      "\n",
      "Posicion de numero de veces 3\n",
      "Datos etiquetados  4200\n",
      "Datos sin etiqueta:  1934686\n",
      "Cantidad de datos etiquetados [4000, 4100, 4200]\n",
      "25973/25973 [==============================] - 19s 741us/step\n",
      "60459/60459 [==============================] - 45s 752us/step\n",
      "[99.78870929746057, 99.78406821624884, 99.78375652755896]\n",
      "              precision    recall  f1-score   support\n",
      "\n",
      "           0       1.00      1.00      1.00    828659\n",
      "           1       0.76      0.50      0.60      2464\n",
      "\n",
      "    accuracy                           1.00    831123\n",
      "   macro avg       0.88      0.75      0.80    831123\n",
      "weighted avg       1.00      1.00      1.00    831123\n",
      "\n",
      "Posicion de numero de veces 4\n",
      "Datos etiquetados  4300\n",
      "Datos sin etiqueta:  1934586\n",
      "Cantidad de datos etiquetados [4000, 4100, 4200, 4300]\n",
      "25973/25973 [==============================] - 20s 769us/step\n",
      "60456/60456 [==============================] - 43s 705us/step\n",
      "[99.78870929746057, 99.78406821624884, 99.78375652755896, 99.78205192588358]\n",
      "              precision    recall  f1-score   support\n",
      "\n",
      "           0       1.00      1.00      1.00    828659\n",
      "           1       0.75      0.50      0.60      2464\n",
      "\n",
      "    accuracy                           1.00    831123\n",
      "   macro avg       0.87      0.75      0.80    831123\n",
      "weighted avg       1.00      1.00      1.00    831123\n",
      "\n",
      "Posicion de numero de veces 5\n",
      "Datos etiquetados  4400\n",
      "Datos sin etiqueta:  1934486\n",
      "Cantidad de datos etiquetados [4000, 4100, 4200, 4300, 4400]\n",
      "25973/25973 [==============================] - 19s 728us/step\n",
      "60453/60453 [==============================] - 46s 763us/step\n",
      "[99.78870929746057, 99.78406821624884, 99.78375652755896, 99.78205192588358, 99.79412947356141]\n",
      "              precision    recall  f1-score   support\n",
      "\n",
      "           0       1.00      1.00      1.00    828659\n",
      "           1       0.81      0.50      0.62      2464\n",
      "\n",
      "    accuracy                           1.00    831123\n",
      "   macro avg       0.90      0.75      0.81    831123\n",
      "weighted avg       1.00      1.00      1.00    831123\n",
      "\n",
      "Posicion de numero de veces 6\n",
      "Datos etiquetados  4500\n",
      "Datos sin etiqueta:  1934386\n",
      "Cantidad de datos etiquetados [4000, 4100, 4200, 4300, 4400, 4500]\n",
      "25973/25973 [==============================] - 21s 818us/step\n",
      "60450/60450 [==============================] - 48s 790us/step\n",
      "[99.78870929746057, 99.78406821624884, 99.78375652755896, 99.78205192588358, 99.79412947356141, 99.74565923022615]\n",
      "              precision    recall  f1-score   support\n",
      "\n",
      "           0       1.00      1.00      1.00    828659\n",
      "           1       0.61      0.50      0.55      2464\n",
      "\n",
      "    accuracy                           1.00    831123\n",
      "   macro avg       0.80      0.75      0.78    831123\n",
      "weighted avg       1.00      1.00      1.00    831123\n",
      "\n",
      "Posicion de numero de veces 7\n",
      "Datos etiquetados  4600\n",
      "Datos sin etiqueta:  1934286\n",
      "Cantidad de datos etiquetados [4000, 4100, 4200, 4300, 4400, 4500, 4600]\n",
      "25973/25973 [==============================] - 20s 775us/step\n",
      "60447/60447 [==============================] - 46s 761us/step\n",
      "[99.78870929746057, 99.78406821624884, 99.78375652755896, 99.78205192588358, 99.79412947356141, 99.74565923022615, 99.73985680708451]\n",
      "              precision    recall  f1-score   support\n",
      "\n",
      "           0       1.00      1.00      1.00    828659\n",
      "           1       0.59      0.50      0.54      2464\n",
      "\n",
      "    accuracy                           1.00    831123\n",
      "   macro avg       0.80      0.75      0.77    831123\n",
      "weighted avg       1.00      1.00      1.00    831123\n",
      "\n",
      "Posicion de numero de veces 8\n",
      "Datos etiquetados  4700\n",
      "Datos sin etiqueta:  1934186\n",
      "Cantidad de datos etiquetados [4000, 4100, 4200, 4300, 4400, 4500, 4600, 4700]\n",
      "25973/25973 [==============================] - 20s 778us/step\n",
      "60444/60444 [==============================] - 45s 737us/step\n",
      "[99.78870929746057, 99.78406821624884, 99.78375652755896, 99.78205192588358, 99.79412947356141, 99.74565923022615, 99.73985680708451, 99.7539662537132]\n",
      "              precision    recall  f1-score   support\n",
      "\n",
      "           0       1.00      1.00      1.00    828659\n",
      "           1       0.64      0.50      0.56      2464\n",
      "\n",
      "    accuracy                           1.00    831123\n",
      "   macro avg       0.82      0.75      0.78    831123\n",
      "weighted avg       1.00      1.00      1.00    831123\n",
      "\n",
      "Posicion de numero de veces 9\n",
      "Datos etiquetados  4800\n",
      "Datos sin etiqueta:  1934086\n",
      "Cantidad de datos etiquetados [4000, 4100, 4200, 4300, 4400, 4500, 4600, 4700, 4800]\n",
      "25973/25973 [==============================] - 20s 786us/step\n",
      "60441/60441 [==============================] - 46s 767us/step\n",
      "[99.78870929746057, 99.78406821624884, 99.78375652755896, 99.78205192588358, 99.79412947356141, 99.74565923022615, 99.73985680708451, 99.7539662537132, 99.76872777414391]\n",
      "              precision    recall  f1-score   support\n",
      "\n",
      "           0       1.00      1.00      1.00    828659\n",
      "           1       0.69      0.50      0.58      2464\n",
      "\n",
      "    accuracy                           1.00    831123\n",
      "   macro avg       0.85      0.75      0.79    831123\n",
      "weighted avg       1.00      1.00      1.00    831123\n",
      "\n",
      "Posicion de numero de veces 10\n",
      "Datos etiquetados  4900\n",
      "Datos sin etiqueta:  1933986\n",
      "Cantidad de datos etiquetados [4000, 4100, 4200, 4300, 4400, 4500, 4600, 4700, 4800, 4900]\n",
      "25973/25973 [==============================] - 22s 849us/step\n",
      "60438/60438 [==============================] - 54s 894us/step\n",
      "[99.78870929746057, 99.78406821624884, 99.78375652755896, 99.78205192588358, 99.79412947356141, 99.74565923022615, 99.73985680708451, 99.7539662537132, 99.76872777414391, 99.75628543234109]\n",
      "              precision    recall  f1-score   support\n",
      "\n",
      "           0       1.00      1.00      1.00    828659\n",
      "           1       0.65      0.50      0.56      2464\n",
      "\n",
      "    accuracy                           1.00    831123\n",
      "   macro avg       0.82      0.75      0.78    831123\n",
      "weighted avg       1.00      1.00      1.00    831123\n",
      "\n"
     ]
    },
    {
     "data": {
      "image/png": "[encoded data removed]",
      "text/plain": [
       "<Figure size 720x720 with 1 Axes>"
      ]
     },
     "metadata": {
      "needs_background": "light"
     },
     "output_type": "display_data"
    }
   ],
   "source": [
    "#examples_train = 2000\n",
    "#examples_validation = 200\n",
    "\n",
    "#(array([0, 1], dtype=int64), array([2000, 2000], dtype=int64))\n",
    "\n",
    "# 50% de no fraude y 50% de fraudes\n",
    "batch = 100 #Datos confiables para agregar a la iteracion\n",
    "numerode_veces(10,batch,xu,xl,yl,model=model,test_data=X_test,test_labels=y_test)"
   ]
  }
 ],
 "metadata": {
  "kernelspec": {
   "display_name": "Python 3",
   "language": "python",
   "name": "python3"
  },
  "language_info": {
   "codemirror_mode": {
    "name": "ipython",
    "version": 3
   },
   "file_extension": ".py",
   "mimetype": "text/x-python",
   "name": "python",
   "nbconvert_exporter": "python",
   "pygments_lexer": "ipython3",
   "version": "3.9.4"
  },
  "orig_nbformat": 4
 },
 "nbformat": 4,
 "nbformat_minor": 2
}
